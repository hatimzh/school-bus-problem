{
 "cells": [
  {
   "cell_type": "code",
   "execution_count": null,
   "id": "904a6ddf-b572-4b71-8076-851d8e1d1802",
   "metadata": {},
   "outputs": [],
   "source": [
    "'''Pour stocker des adresses aleatoir de Settat dans un fichier csv''''\n",
    "\n",
    "from geopy.geocoders import Nominatim\n",
    "import random\n",
    "import csv\n",
    "\n",
    "# Geolocator to convert addresses to coordinates\n",
    "geolocator = Nominatim(user_agent=\"random_location_generator\")\n",
    "\n",
    "# Number of random locations to generate\n",
    "num_locations = 10\n",
    "\n",
    "# Range of latitude and longitude for Settat, Morocco\n",
    "latitude_range = (32.987389068412064,32.98796501819845 )\n",
    "longitude_range = (-7.643177482708858, -7.594082331885501)\n",
    "\n",
    "# Generate random locationsq\n",
    "random_locations = []\n",
    "for i in range(num_locations):\n",
    "    latitude = round(random.uniform(*latitude_range), 6)\n",
    "    longitude = round(random.uniform(*longitude_range), 6)\n",
    "    location = geolocator.reverse(f\"{latitude}, {longitude}\")\n",
    "    random_locations.append([location.address, latitude, longitude])\n",
    "\n",
    "# Write locations to CSV file\n",
    "with open(\"locations.csv\", \"w\",encoding='UTF-8') as csvfile:\n",
    "    writer = csv.writer(csvfile)\n",
    "    writer.writerow([\"Address\", \"Latitude\", \"Longitude\"])\n",
    "    writer.writerows(random_locations)\n",
    "\n",
    "print(\"Random locations have been generated and stored in locations.csv file\")\n"
   ]
  }
 ],
 "metadata": {
  "kernelspec": {
   "display_name": "Python 3 (ipykernel)",
   "language": "python",
   "name": "python3"
  },
  "language_info": {
   "codemirror_mode": {
    "name": "ipython",
    "version": 3
   },
   "file_extension": ".py",
   "mimetype": "text/x-python",
   "name": "python",
   "nbconvert_exporter": "python",
   "pygments_lexer": "ipython3",
   "version": "3.10.4"
  }
 },
 "nbformat": 4,
 "nbformat_minor": 5
}
